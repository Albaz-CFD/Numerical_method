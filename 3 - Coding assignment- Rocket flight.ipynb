{
 "cells": [
  {
   "cell_type": "markdown",
   "id": "624180ca-cda5-4fa4-a897-929949ade8ac",
   "metadata": {},
   "source": [
    "# Coding assignment: Rocket flight\n",
    "The equations of motion for a rocket in purely vertical flight are given by\n",
    "\n",
    "### $$\\frac{dh}{dt} = v$$ $$(m_s + m_p)\\frac{dv}{dt} = -(m_s + m_p)g + \\dot{m_p} v_e - \\frac{1}{2}\\rho v | v |AC_D$$\n",
    "\n",
    "- $h$ is the altitude of the rocket\n",
    "- $m_s = 50 kg$ is the weight of the rocket shell\n",
    "- $g = 9.81 \\frac{m}{s^2}$ is the weight of the rocket shell\n",
    "- $\\rho = 1.091 \\frac{kg}{m^3}$ is the average air density (assumed constant throughout flight)\n",
    "- $A = \\pi r^2$ is the maximum cross sectional area of the rocket, where $r = 0.5 m$\n",
    "- $v_e = 325 \\frac{m}{s}$ is the exhaust speed\n",
    "- $C_D = 0.15$ is the drag coefficient\n",
    "- $m_{po} = 100 kg$ at time  is the initial weight of the rocket propellant\n",
    "The mass of the remaining propellant is given by:\n",
    "### $$m_p = m_{po} - \\int_0^t \\dot{m_p}d\\tau$$\n",
    "where $\\dot{m_p}$ is the time-varying burn rate given by the following figure:\n",
    "\n",
    "![Image of Yaktocat](https://openedx.seas.gwu.edu/assets/courseware/v1/9505e19f45c810b456d7e9bc71063d63/asset-v1:MAE+MAE6286+2017+type@asset+block/burn.rate.png)\n",
    "\n",
    "Using Euler's method with a timestep of $\\Delta t = 0.1s$, create a Python script to calculate the altitude and velocity of the rocket from launch until crash down.  \n",
    "\n",
    "Using the results from your code, answer the questions below concerning the flight of the rocket."
   ]
  },
  {
   "cell_type": "code",
   "execution_count": 1,
   "id": "09e20518-b19c-4157-9f75-04174304db90",
   "metadata": {},
   "outputs": [],
   "source": [
    "import numpy as np\n",
    "pi = np.pi"
   ]
  },
  {
   "cell_type": "code",
   "execution_count": 2,
   "id": "253f66cf-240d-49de-a60b-91f58d76fe3f",
   "metadata": {},
   "outputs": [],
   "source": [
    "m_s = 50\n",
    "g = 9.81\n",
    "rho = 1.091\n",
    "r = 0.5\n",
    "A=np.pi*r**2\n",
    "v_e = 325\n",
    "C_D = 0.15\n",
    "m_po = 100"
   ]
  },
  {
   "cell_type": "code",
   "execution_count": 3,
   "id": "bd0e514b-60ff-4ab0-8e2f-3eb038e88217",
   "metadata": {},
   "outputs": [],
   "source": [
    "def mbr(t):\n",
    "    if t<=5:\n",
    "        mbr = 20\n",
    "    else:\n",
    "        mbr = 0\n",
    "    return mbr\n",
    "def dv(m_p,v,t):\n",
    "    dv= -g + mbr(t)*v_e/(m_s + m_p) -1/2 * rho *v*abs(v)*A*C_D/(m_s + m_p);\n",
    "    return dv\n",
    "\n",
    "def dh(v):\n",
    "    return v\n",
    "\n",
    "ts = 0;\n",
    "tf = 40;\n",
    "dt=0.1;\n",
    "\n",
    "n=int((tf-ts)/dt+1);\n",
    "t = np.zeros(n)\n",
    "m_p = np.zeros(n)\n",
    "v = np.zeros(n)\n",
    "h = np.zeros(n)\n",
    "\n",
    "t[0]=0;\n",
    "m_p[0]=100;\n",
    "v[0] = 0;\n",
    "h[0] = 0;\n",
    "\n",
    "for i in range(int(n-1)):\n",
    "    t[i+1] = t[i]+dt;\n",
    "    m_p[i+1] = m_p[i] - dt * mbr(t[i+1]);\n",
    "    v[i+1] = v[i] + dt * dv(m_p[i],v[i],t[i+1]);\n",
    "    h[i+1] = h[i] + dt * dh(v[i]);"
   ]
  },
  {
   "cell_type": "markdown",
   "id": "0b57a14f-787c-4c32-8f9c-60c5529da905",
   "metadata": {
    "tags": []
   },
   "source": [
    "### Remaining fuel\n",
    "At time $t = 3.2s$, what is the mass (in kg) of rocket propellant remaining in the rocket?"
   ]
  },
  {
   "cell_type": "code",
   "execution_count": 4,
   "id": "c90af0fe-2c16-464a-9eaf-854a25034d40",
   "metadata": {},
   "outputs": [
    {
     "name": "stdout",
     "output_type": "stream",
     "text": [
      "The remaining mass (in kg) of rocket propellant is:  36.0\n"
     ]
    }
   ],
   "source": [
    "tend = 3.2\n",
    "\n",
    "def m_p(tend):\n",
    "    tstart = 0\n",
    "    t=tstart\n",
    "    dt = 0.1\n",
    "    n=(tend-tstart)/dt\n",
    "    m_po = 100\n",
    "    def mbr(t):\n",
    "        if t<=5:\n",
    "            mbr = 20\n",
    "        else:\n",
    "            mbr = 0\n",
    "        return mbr\n",
    "    for i in range(int(n)):\n",
    "        t = t + dt\n",
    "        m_p = m_po -dt*mbr(t)\n",
    "        m_po = m_p\n",
    "    return m_p\n",
    "\n",
    "print(\"The remaining mass (in kg) of rocket propellant is: \",m_p(tend))"
   ]
  },
  {
   "cell_type": "markdown",
   "id": "194756f1-4ffc-42be-b7e8-85f12c105a60",
   "metadata": {
    "tags": []
   },
   "source": [
    "### Maximum velocity\n",
    "What is the maximum speed of the rocket in $\\frac{m}{s}$? (Answer to 2 decimal places)"
   ]
  },
  {
   "cell_type": "code",
   "execution_count": 5,
   "id": "0db77ce0-468d-4b61-890b-a7362ea2f52d",
   "metadata": {},
   "outputs": [
    {
     "name": "stdout",
     "output_type": "stream",
     "text": [
      "232.11\n"
     ]
    }
   ],
   "source": [
    "v_max = max(v)\n",
    "print(round(v_max,2))"
   ]
  },
  {
   "cell_type": "markdown",
   "id": "39303b12-e37d-4b95-b63d-6588d61d9964",
   "metadata": {},
   "source": [
    "At what time does this occur (in seconds)? (Answer to 2 decimal places)"
   ]
  },
  {
   "cell_type": "code",
   "execution_count": 6,
   "id": "1eb29e5f-85f2-4465-bba2-2292cae47159",
   "metadata": {},
   "outputs": [
    {
     "name": "stdout",
     "output_type": "stream",
     "text": [
      "5.0\n"
     ]
    }
   ],
   "source": [
    "v_max_index = np.argmax(v, axis=0)\n",
    "print(round(t[v_max_index],2))"
   ]
  },
  {
   "cell_type": "markdown",
   "id": "8e306636-5353-4ab9-8fc2-382b27820be1",
   "metadata": {},
   "source": [
    "What is the altitude at this time (in meters)? (Answer to 2 decimal places)"
   ]
  },
  {
   "cell_type": "code",
   "execution_count": 7,
   "id": "16f5b12f-fdac-4dca-a0c7-9edc07938e51",
   "metadata": {},
   "outputs": [
    {
     "name": "stdout",
     "output_type": "stream",
     "text": [
      "523.52\n"
     ]
    }
   ],
   "source": [
    "print(round(h[v_max_index],2))"
   ]
  },
  {
   "cell_type": "markdown",
   "id": "e085dce2-9cb9-4ce8-ab1b-8669ffb2ac03",
   "metadata": {},
   "source": [
    "### Maximum height\n",
    "What is the rocket's maximum altitude during flight (in meters)? (Answer to 2 decimal places):"
   ]
  },
  {
   "cell_type": "code",
   "execution_count": 8,
   "id": "d7c1eab7-ee23-42ca-b3fd-268658545950",
   "metadata": {},
   "outputs": [
    {
     "name": "stdout",
     "output_type": "stream",
     "text": [
      "1334.18\n"
     ]
    }
   ],
   "source": [
    "h_max = max(h)\n",
    "print(round(h_max,2))"
   ]
  },
  {
   "cell_type": "markdown",
   "id": "95160728-a2b2-4fb0-8853-7ceecbac4a29",
   "metadata": {},
   "source": [
    "At what time (in seconds) does this occur? (Answer to 2 decimal places):"
   ]
  },
  {
   "cell_type": "code",
   "execution_count": 9,
   "id": "71ddae2c-9c0e-4df6-bcc0-84b9648f4fb3",
   "metadata": {},
   "outputs": [
    {
     "name": "stdout",
     "output_type": "stream",
     "text": [
      "15.7\n"
     ]
    }
   ],
   "source": [
    "h_max_index = np.argmax(h, axis=0)\n",
    "print(round(t[h_max_index],2))"
   ]
  },
  {
   "cell_type": "markdown",
   "id": "043c52e5-08bc-48e0-88d6-567df10686ed",
   "metadata": {},
   "source": [
    "### Impact\n",
    "At what time (in seconds) does the rocket impact the ground? (Answer to 2 decimal places)"
   ]
  },
  {
   "cell_type": "code",
   "execution_count": 10,
   "id": "f8ee991f-935e-42cd-9a4b-3cd368da835b",
   "metadata": {},
   "outputs": [
    {
     "name": "stdout",
     "output_type": "stream",
     "text": [
      "37.1\n"
     ]
    }
   ],
   "source": [
    "h_0_index = min(np.where(h<0)[0])\n",
    "print(round(t[h_0_index],2))"
   ]
  },
  {
   "cell_type": "markdown",
   "id": "d93defc9-5535-4d40-87f3-0484f5ed88cc",
   "metadata": {},
   "source": [
    "What is the velocity of the rocket (in $\\frac{m}{s}$) at time of impact? (Answer to 2 decimal places):"
   ]
  },
  {
   "cell_type": "code",
   "execution_count": 11,
   "id": "fc430eed-cfa6-4da9-beaa-5ac8c51320ea",
   "metadata": {},
   "outputs": [
    {
     "name": "stdout",
     "output_type": "stream",
     "text": [
      "-86.01\n"
     ]
    }
   ],
   "source": [
    "print(round(v[h_0_index],2))"
   ]
  }
 ],
 "metadata": {
  "kernelspec": {
   "display_name": "Python 3 (ipykernel)",
   "language": "python",
   "name": "python3"
  },
  "language_info": {
   "codemirror_mode": {
    "name": "ipython",
    "version": 3
   },
   "file_extension": ".py",
   "mimetype": "text/x-python",
   "name": "python",
   "nbconvert_exporter": "python",
   "pygments_lexer": "ipython3",
   "version": "3.8.13"
  }
 },
 "nbformat": 4,
 "nbformat_minor": 5
}
